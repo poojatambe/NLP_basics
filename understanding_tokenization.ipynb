{
 "cells": [
  {
   "cell_type": "markdown",
   "id": "cb551093-6b77-4d31-93df-80cdcaf61825",
   "metadata": {},
   "source": [
    "# OpenAI: tiktoken"
   ]
  },
  {
   "attachments": {
    "2e6f2630-5b19-4518-a449-4e9dec921e96.png": {
     "image/png": "[encoded data removed]"
    }
   },
   "cell_type": "markdown",
   "id": "4d3f9383-f9b1-4382-9c6e-337dc921c6d0",
   "metadata": {
    "jp-MarkdownHeadingCollapsed": true
   },
   "source": [
    "\n",
    "* tiktoken is a fast BPE tokeniser for use with OpenAI's models.\n",
    "\n",
    "* A helpful rule of thumb is that one token generally corresponds to ~4 characters of text for common English text. This translates to roughly ¾ of a word (so 100 tokens ~= 75 words).\n",
    "  \n",
    "![image.png](attachment:2e6f2630-5b19-4518-a449-4e9dec921e96.png)"
   ]
  },
  {
   "cell_type": "code",
   "execution_count": 2,
   "id": "c563258a-360b-4b18-82ab-5f9787500aec",
   "metadata": {},
   "outputs": [],
   "source": [
    "# !pip install tiktoken"
   ]
  },
  {
   "cell_type": "code",
   "execution_count": 1,
   "id": "7dfee04c-a9e7-45b3-a2b9-6f5da4d4c0f0",
   "metadata": {},
   "outputs": [],
   "source": [
    "import tiktoken"
   ]
  },
  {
   "cell_type": "code",
   "execution_count": 1,
   "id": "c2fa44e4-b8e7-4f91-952c-a8e3a2688b4c",
   "metadata": {},
   "outputs": [],
   "source": [
    "def tokenize(text, encoding, model):\n",
    "    encoding = tiktoken.get_encoding(encoding)\n",
    "    encoding_model = tiktoken.encoding_for_model(model)\n",
    "    \n",
    "    encode_token = encoding.encode(text)\n",
    "    num_tk = len(encode_token)\n",
    "    decode_token = encoding.decode(encode_token)\n",
    "    single_token_decode = [encoding.decode_single_token_bytes(token) for token in encode_token]\n",
    "    \n",
    "    model_encode_token = encoding_model.encode(text)\n",
    "    num_model_tk = len(model_encode_token)\n",
    "    model_decode_token = encoding_model.decode(model_encode_token)\n",
    "    single_model_token_decode = [encoding_model.decode_single_token_bytes(token) for token in model_encode_token]\n",
    "    \n",
    "    print(\"\\n\\nEncoding name {} based results: \\n\".format(encoding))\n",
    "    print(\"Encoding: {}, tokenwise_decode: {}, number of token: {}, decoding: {}\".format(encode_token, single_token_decode, num_tk, decode_token))\n",
    "\n",
    "    print(\"\\n\\nOpenAI model name {} based results: \\n\".format(model))\n",
    "    print(\"Encoding: {}, tokenwise_decode: {}, number of token: {}, decoding: {}\".format(model_encode_token, single_model_token_decode, num_model_tk, model_decode_token))\n",
    "    "
   ]
  },
  {
   "cell_type": "code",
   "execution_count": 3,
   "id": "4e9d5f36-36e2-4c46-938f-d50e86c6e863",
   "metadata": {},
   "outputs": [
    {
     "name": "stdout",
     "output_type": "stream",
     "text": [
      "\n",
      "\n",
      "Encoding name <Encoding 'o200k_base'> based results: \n",
      "\n",
      "Encoding: [1347, 885, 4484, 6602, 2860, 13], tokenwise_decode: [b'let', b\"'s\", b' learn', b' token', b'ization', b'.'], number of token: 6, decoding: let's learn tokenization.\n",
      "\n",
      "\n",
      "OpenAI model name gpt-4o based results: \n",
      "\n",
      "Encoding: [1347, 885, 4484, 6602, 2860, 13], tokenwise_decode: [b'let', b\"'s\", b' learn', b' token', b'ization', b'.'], number of token: 6, decoding: let's learn tokenization.\n"
     ]
    }
   ],
   "source": [
    "text = \"let's learn tokenization.\"\n",
    "tokenize(text, 'o200k_base', 'gpt-4o')"
   ]
  },
  {
   "cell_type": "code",
   "execution_count": 4,
   "id": "eabeff0d-74de-475e-bdb4-b73879f71bbc",
   "metadata": {},
   "outputs": [
    {
     "name": "stdout",
     "output_type": "stream",
     "text": [
      "\n",
      "\n",
      "Encoding name <Encoding 'o200k_base'> based results: \n",
      "\n",
      "Encoding: [1347, 885, 4484, 6602, 2860, 13], tokenwise_decode: [b'let', b\"'s\", b' learn', b' token', b'ization', b'.'], number of token: 6, decoding: let's learn tokenization.\n",
      "\n",
      "\n",
      "OpenAI model name gpt-4o-mini based results: \n",
      "\n",
      "Encoding: [1347, 885, 4484, 6602, 2860, 13], tokenwise_decode: [b'let', b\"'s\", b' learn', b' token', b'ization', b'.'], number of token: 6, decoding: let's learn tokenization.\n",
      "\n",
      "\n",
      "Encoding name <Encoding 'cl100k_base'> based results: \n",
      "\n",
      "Encoding: [1169, 596, 4048, 4037, 2065, 13], tokenwise_decode: [b'let', b\"'s\", b' learn', b' token', b'ization', b'.'], number of token: 6, decoding: let's learn tokenization.\n",
      "\n",
      "\n",
      "OpenAI model name gpt-4 based results: \n",
      "\n",
      "Encoding: [1169, 596, 4048, 4037, 2065, 13], tokenwise_decode: [b'let', b\"'s\", b' learn', b' token', b'ization', b'.'], number of token: 6, decoding: let's learn tokenization.\n",
      "\n",
      "\n",
      "Encoding name <Encoding 'p50k_base'> based results: \n",
      "\n",
      "Encoding: [1616, 338, 2193, 11241, 1634, 13], tokenwise_decode: [b'let', b\"'s\", b' learn', b' token', b'ization', b'.'], number of token: 6, decoding: let's learn tokenization.\n",
      "\n",
      "\n",
      "OpenAI model name text-davinci-002 based results: \n",
      "\n",
      "Encoding: [1616, 338, 2193, 11241, 1634, 13], tokenwise_decode: [b'let', b\"'s\", b' learn', b' token', b'ization', b'.'], number of token: 6, decoding: let's learn tokenization.\n",
      "\n",
      "\n",
      "Encoding name <Encoding 'r50k_base'> based results: \n",
      "\n",
      "Encoding: [1616, 338, 2193, 11241, 1634, 13], tokenwise_decode: [b'let', b\"'s\", b' learn', b' token', b'ization', b'.'], number of token: 6, decoding: let's learn tokenization.\n",
      "\n",
      "\n",
      "OpenAI model name davinci based results: \n",
      "\n",
      "Encoding: [1616, 338, 2193, 11241, 1634, 13], tokenwise_decode: [b'let', b\"'s\", b' learn', b' token', b'ization', b'.'], number of token: 6, decoding: let's learn tokenization.\n"
     ]
    },
    {
     "data": {
      "text/plain": [
       "[None, None, None, None]"
      ]
     },
     "execution_count": 4,
     "metadata": {},
     "output_type": "execute_result"
    }
   ],
   "source": [
    "encoding_name = ['o200k_base', 'cl100k_base', 'p50k_base', 'r50k_base']\n",
    "model_name = ['gpt-4o-mini', 'gpt-4', 'text-davinci-002', 'davinci']\n",
    "text = \"let's learn tokenization.\"\n",
    "[tokenize(text, encoding_name[i], model_name[i]) for i in range(len(model_name))]"
   ]
  },
  {
   "cell_type": "markdown",
   "id": "b8cea40b-0f15-4591-a319-5370a802d7f0",
   "metadata": {},
   "source": [
    "# HuggingFace"
   ]
  },
  {
   "cell_type": "markdown",
   "id": "394e5597-701c-47cd-9651-538ac364b551",
   "metadata": {},
   "source": [
    "### Normalization & Pre-tokenization"
   ]
  },
  {
   "cell_type": "markdown",
   "id": "e2e6513a-d64a-4217-8368-e1eff83bd6a3",
   "metadata": {},
   "source": [
    "* The normalization step involves some general cleanup, such as removing needless whitespace, lowercasing, and/or removing accents.\n",
    "* The pre=tokenization splits the texts into small entities, like words.\n"
   ]
  },
  {
   "cell_type": "code",
   "execution_count": 3,
   "id": "b1c1ea98-1ca5-4ffd-bc6e-fb7a3bef3706",
   "metadata": {},
   "outputs": [],
   "source": [
    "from transformers import AutoTokenizer\n",
    "\n",
    "def pre_tokenize(tokenizer, text):\n",
    "    print(\"Tokenizer from tokenizer class: \\n \", type(tokenizer.backend_tokenizer))\n",
    "    normalized_out = tokenizer.backend_tokenizer.normalizer.normalize_str(text)\n",
    "    pretoken_out = tokenizer.backend_tokenizer.pre_tokenizer.pre_tokenize_str(normalized_out)\n",
    "    return normalized_out, pretoken_out\n",
    "    "
   ]
  },
  {
   "cell_type": "code",
   "execution_count": 4,
   "id": "8ba1fb46-3764-4892-b3bd-06259bb3d568",
   "metadata": {},
   "outputs": [
    {
     "name": "stdout",
     "output_type": "stream",
     "text": [
      "Tokenizer from tokenizer class: \n",
      "  <class 'tokenizers.Tokenizer'>\n",
      "original text:  Héllò hôw are ü?\n",
      "Normalization:  hello how are u?\n",
      "Pre-tokenization:  [('hello', (0, 5)), ('how', (6, 9)), ('are', (10, 13)), ('u', (14, 15)), ('?', (15, 16))]\n"
     ]
    }
   ],
   "source": [
    "# BERT tokenizer, the pre-tokenization involves splitting on whitespace and punctuation.\n",
    "\n",
    "tokenizer = AutoTokenizer.from_pretrained('bert-base-uncased')\n",
    "text = \"Héllò hôw are ü?\"\n",
    "normalize, pre_token = pre_tokenize(tokenizer, text)\n",
    "print(\"original text: \", text)\n",
    "print(\"Normalization: \", normalize)\n",
    "print(\"Pre-tokenization: \", pre_token)"
   ]
  },
  {
   "cell_type": "code",
   "execution_count": 21,
   "id": "91f5d915-7363-49f6-8e45-237b8f580113",
   "metadata": {},
   "outputs": [
    {
     "name": "stdout",
     "output_type": "stream",
     "text": [
      "original text:  Hello how are u?\n",
      "Pre-tokenization:  [('Hello', (0, 5)), ('Ġhow', (5, 9)), ('Ġare', (9, 13)), ('Ġu', (13, 15)), ('?', (15, 16))]\n"
     ]
    }
   ],
   "source": [
    "# GPT2 keeps the spaces and replace them with a Ġ symbol\n",
    "\n",
    "tokenizer = AutoTokenizer.from_pretrained(\"gpt2\")\n",
    "text = \"Hello how are u?\"\n",
    "pre_token = tokenizer.backend_tokenizer.pre_tokenizer.pre_tokenize_str(text)\n",
    "print(\"original text: \", text)\n",
    "print(\"Pre-tokenization: \", pre_token)"
   ]
  },
  {
   "cell_type": "code",
   "execution_count": 5,
   "id": "42126508-e2a2-4799-b104-80abaca67492",
   "metadata": {},
   "outputs": [
    {
     "name": "stdout",
     "output_type": "stream",
     "text": [
      "original text:  Hello how are u?\n",
      "Pre-tokenization:  [('▁Hello', (0, 5)), ('▁how', (6, 9)), ('▁are', (10, 13)), ('▁u?', (14, 16))]\n"
     ]
    }
   ],
   "source": [
    " # T5 keeps spaces and replaces them with a specific token (_), but the T5 tokenizer only splits on whitespace, not punctuation. \n",
    "# Also note that it added a space by default at the beginning of the sentence (before Hello) and ignored the double space between are and you.\n",
    "\n",
    "tokenizer = AutoTokenizer.from_pretrained(\"t5-small\")\n",
    "text = \"Hello how are u?\"\n",
    "pre_token = tokenizer.backend_tokenizer.pre_tokenizer.pre_tokenize_str(text)\n",
    "print(\"original text: \", text)\n",
    "print(\"Pre-tokenization: \", pre_token)"
   ]
  },
  {
   "cell_type": "markdown",
   "id": "c86997a3-40a2-4a23-bca4-a429895275df",
   "metadata": {},
   "source": [
    "### Wordpiece, BPE, Sentencepiece methods"
   ]
  },
  {
   "cell_type": "code",
   "execution_count": 16,
   "id": "2c60535a-710a-4a99-b590-0d51b80927e5",
   "metadata": {},
   "outputs": [
    {
     "name": "stdout",
     "output_type": "stream",
     "text": [
      "Bert tokens:  {'input_ids': tensor([[  101,  2292,  1005,  1055,  2707,  4824, 19204,  3989,  1012,   102]]), 'token_type_ids': tensor([[0, 0, 0, 0, 0, 0, 0, 0, 0, 0]]), 'attention_mask': tensor([[1, 1, 1, 1, 1, 1, 1, 1, 1, 1]])}\n",
      "Bert decode output:  ['[CLS]', 'let', \"'\", 's', 'start', 'understanding', 'token', '##ization', '.', '[SEP]']\n"
     ]
    }
   ],
   "source": [
    "from transformers import BertTokenizer\n",
    "\n",
    "# wordpiece\n",
    "tokenizer = BertTokenizer.from_pretrained('bert-base-uncased')\n",
    "text = \"Let's start understanding tokenization.\"\n",
    "encoding = tokenizer(text, return_tensors='pt')\n",
    "print(\"Bert tokens: \", encoding)\n",
    "decode = tokenizer.convert_ids_to_tokens(encoding['input_ids'][0])\n",
    "print(\"Bert decode output: \", decode)"
   ]
  },
  {
   "cell_type": "code",
   "execution_count": 17,
   "id": "07519c8c-836b-4c9a-889f-b4e3aac7ab92",
   "metadata": {},
   "outputs": [
    {
     "name": "stdout",
     "output_type": "stream",
     "text": [
      "GPT2 tokens:  {'input_ids': tensor([[ 5756,   338,   923,  4547, 11241,  1634,    13]]), 'attention_mask': tensor([[1, 1, 1, 1, 1, 1, 1]])}\n",
      "GPT2 decode output:  ['Let', \"'s\", 'Ġstart', 'Ġunderstanding', 'Ġtoken', 'ization', '.']\n"
     ]
    }
   ],
   "source": [
    "from transformers import GPT2Tokenizer\n",
    "\n",
    "# BPE\n",
    "tokenizer = GPT2Tokenizer.from_pretrained('openai-community/gpt2')\n",
    "text = \"Let's start understanding tokenization.\"\n",
    "encoding = tokenizer(text, return_tensors='pt')\n",
    "print(\"GPT2 tokens: \", encoding)\n",
    "decode = tokenizer.convert_ids_to_tokens(encoding['input_ids'][0])\n",
    "print(\"GPT2 decode output: \", decode)"
   ]
  },
  {
   "cell_type": "code",
   "execution_count": 18,
   "id": "620e3e47-27fa-4d9a-aed9-f090d71f4db0",
   "metadata": {},
   "outputs": [
    {
     "name": "stdout",
     "output_type": "stream",
     "text": [
      "XLNet tokens:  {'input_ids': tensor([[ 2834,    26,    23,   467,  2172, 17366,  1822,     9,     4,     3]]), 'token_type_ids': tensor([[0, 0, 0, 0, 0, 0, 0, 0, 0, 2]]), 'attention_mask': tensor([[1, 1, 1, 1, 1, 1, 1, 1, 1, 1]])}\n",
      "XLNet decode output:  ['▁Let', \"'\", 's', '▁start', '▁understanding', '▁token', 'ization', '.', '<sep>', '<cls>']\n"
     ]
    }
   ],
   "source": [
    "from transformers import XLNetTokenizer\n",
    "\n",
    "# sentencepiece\n",
    "tokenizer = XLNetTokenizer.from_pretrained('xlnet-base-cased')\n",
    "text = \"Let's start understanding tokenization.\"\n",
    "encoding = tokenizer(text, return_tensors='pt')\n",
    "print(\"XLNet tokens: \", encoding)\n",
    "decode = tokenizer.convert_ids_to_tokens(encoding['input_ids'][0])\n",
    "print(\"XLNet decode output: \", decode)"
   ]
  },
  {
   "cell_type": "markdown",
   "id": "4722df1c-a580-4075-95fd-9645875c9ae6",
   "metadata": {
    "jp-MarkdownHeadingCollapsed": true
   },
   "source": [
    "# Compare GPT2 tokens and GPT4 tokens"
   ]
  },
  {
   "cell_type": "markdown",
   "id": "200d041d-bc27-4339-a3a3-29008307c76e",
   "metadata": {},
   "source": [
    "* GPT 4 combines more white spaces than GPT 2\n",
    "* For given example, GPT 2 has 10 tokens where as GPT 4 has 7 tokens."
   ]
  },
  {
   "cell_type": "code",
   "execution_count": 13,
   "id": "806257bc-1cf6-4d0d-adca-3545aded12c8",
   "metadata": {},
   "outputs": [
    {
     "name": "stdout",
     "output_type": "stream",
     "text": [
      "GPT2 output:  {'input_ids': tensor([[17250,    11,   703,   389,   220,   220,   220,   220,   345,    30]]), 'attention_mask': tensor([[1, 1, 1, 1, 1, 1, 1, 1, 1, 1]])}\n",
      "token length:  10\n",
      "decoding output: ['Hi', ',', 'Ġhow', 'Ġare', 'Ġ', 'Ġ', 'Ġ', 'Ġ', 'Ġyou', '?'] Hi, how are     you?\n"
     ]
    }
   ],
   "source": [
    "# gpt2 \n",
    "from transformers import GPT2Tokenizer\n",
    "\n",
    "tokenizer = GPT2Tokenizer.from_pretrained('gpt2')\n",
    "text = \"Hi, how are     you?\"\n",
    "result = tokenizer(text, return_tensors='pt')\n",
    "print(\"GPT2 output: \", result)\n",
    "print(\"token length: \", len(result['input_ids'][0]))\n",
    "decode_result = tokenizer.convert_ids_to_tokens(result['input_ids'][0])\n",
    "decode = tokenizer.decode(result['input_ids'][0])\n",
    "print(\"decoding output:\", decode_result, decode)"
   ]
  },
  {
   "cell_type": "code",
   "execution_count": 15,
   "id": "14f9b72d-48f8-4846-b746-527672065149",
   "metadata": {},
   "outputs": [
    {
     "name": "stdout",
     "output_type": "stream",
     "text": [
      "GPT4 output: [13347, 11, 1268, 527, 257, 499, 30]\n",
      "token length:  7\n",
      "decoding output:  [b'Hi', b',', b' how', b' are', b'    ', b' you', b'?'] Hi, how are     you?\n"
     ]
    }
   ],
   "source": [
    "# gpt4\n",
    "import tiktoken\n",
    "\n",
    "\n",
    "encoding = tiktoken.encoding_for_model('gpt-4')\n",
    "text = \"Hi, how are     you?\"\n",
    "result= encoding.encode(text)\n",
    "print(\"GPT4 output:\", result)\n",
    "print(\"token length: \", len(result))\n",
    "decode_result = [encoding.decode_single_token_bytes(token) for token in result]\n",
    "decode = encoding.decode(result)\n",
    "print(\"decoding output: \", decode_result, decode)"
   ]
  },
  {
   "cell_type": "code",
   "execution_count": null,
   "id": "393d49b9-5423-4cfe-8f66-6d3da0348dcf",
   "metadata": {},
   "outputs": [],
   "source": []
  }
 ],
 "metadata": {
  "kernelspec": {
   "display_name": "Python 3",
   "language": "python",
   "name": "python3"
  },
  "language_info": {
   "codemirror_mode": {
    "name": "ipython",
    "version": 3
   },
   "file_extension": ".py",
   "mimetype": "text/x-python",
   "name": "python",
   "nbconvert_exporter": "python",
   "pygments_lexer": "ipython3",
   "version": "3.11.0"
  }
 },
 "nbformat": 4,
 "nbformat_minor": 5
}
